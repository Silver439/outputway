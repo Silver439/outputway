{
 "cells": [
  {
   "cell_type": "code",
   "execution_count": 1,
   "metadata": {},
   "outputs": [],
   "source": [
    "import numpy as np\n",
    "from functools import partial\n",
    "from pak.plotfunc import *\n",
    "import cocoex"
   ]
  },
  {
   "cell_type": "code",
   "execution_count": 2,
   "metadata": {},
   "outputs": [],
   "source": [
    "f = []\n",
    "suite = cocoex.Suite(\"bbob\", \"year:2023\", \"dimensions: 5\")\n",
    "bounds = [(-5., 5.), ] * 5\n",
    "for i in range(24):\n",
    "    f.append(suite.get_problem(i*15))\n",
    "    \n",
    "mindata = []\n",
    "with open(\"Data\\\\data5D\\\\fmin.csv\",\"r\") as file:\n",
    "    for  line in file:\n",
    "        mindata.append(float(line.strip()))"
   ]
  },
  {
   "cell_type": "code",
   "execution_count": 3,
   "metadata": {},
   "outputs": [],
   "source": [
    "n_calls = 200\n",
    "n_repeats = 10"
   ]
  },
  {
   "cell_type": "code",
   "execution_count": null,
   "metadata": {},
   "outputs": [],
   "source": [
    "title = 24\n",
    "csvlist = [\"f\"+str(title),\"f\"+str(title)+'_pre'] \n",
    "func_val = []\n",
    "res = []\n",
    "true_minimum = mindata[title-1]\n",
    "for csv in csvlist:\n",
    "    with open(\"Data\\\\data5D\\\\\"+csv+\".csv\",\"r\") as file: \n",
    "        count = 0\n",
    "        for line in file:\n",
    "            macoiter = count//n_calls # 实验序数\n",
    "            iter = count-macoiter*n_calls # 迭代序数\n",
    "            if iter<=n_calls:\n",
    "                data = [float(x) for x in line.strip().split(\",\")]\n",
    "                func_val.append(f[title-1](data))\n",
    "            count = count+1\n",
    "resultList = [] # 储存绘图所需的所有信息\n",
    "i = 0\n",
    "for csv in csvlist:\n",
    "    n = len(func_val)//len(csvlist)\n",
    "    resultList.append((csv,[np.array(func_val[j:j+n_calls]) for j in range(i*n, (i+1)*n, n_calls)])) # 将predictvalue列表拆分为正确的形式\n",
    "    i = i+1"
   ]
  },
  {
   "cell_type": "code",
   "execution_count": null,
   "metadata": {},
   "outputs": [],
   "source": [
    "plot = plot_SimpleRegret(result_list=resultList,\n",
    "                         n_calls = n_calls,\n",
    "                        true_minimum=true_minimum-1e-6, \n",
    "                        yscale='log',\n",
    "                        title=\"f\"+str(title))"
   ]
  },
  {
   "cell_type": "code",
   "execution_count": null,
   "metadata": {},
   "outputs": [],
   "source": [
    "plot = plot_InstantRegret(result_list=resultList,\n",
    "                         n_calls = n_calls,\n",
    "                        true_minimum=true_minimum-1e-6,\n",
    "                        yscale='log',\n",
    "                        title=\"f\"+str(title)) "
   ]
  },
  {
   "cell_type": "code",
   "execution_count": 4,
   "metadata": {},
   "outputs": [],
   "source": [
    "DF = []\n",
    "sim = []\n",
    "pre = []\n",
    "pre100 = []\n",
    "for i in range(24):\n",
    "    count1 = 1\n",
    "    count2 = 1\n",
    "    simmin = 100000000\n",
    "    premin = 100000000\n",
    "    simnum = 0\n",
    "    prenum = 0\n",
    "    with open(\"Data\\\\data5D\\\\f\"+str(i+1)+'.csv') as file:\n",
    "        for line in file:\n",
    "            data = [float(x) for x in line.strip().split(\",\")]\n",
    "            if f[i](data)<simmin:\n",
    "                simmin = f[i](data)\n",
    "                simnum = count1%n_calls\n",
    "                if count1%n_calls==0:\n",
    "                    simnum = n_calls\n",
    "            if count1%n_calls==0:\n",
    "                sim.append([simnum,simmin])\n",
    "                simmin = 100000000\n",
    "            count1 = count1+1\n",
    "    with open(\"Data\\\\data5D\\\\f\"+str(i+1)+'_pre.csv') as file:\n",
    "        for line in file:\n",
    "            data = [float(x) for x in line.strip().split(\",\")]\n",
    "            if f[i](data)<premin:\n",
    "                premin = f[i](data)\n",
    "                prenum = count2%n_calls\n",
    "                if count2%n_calls==0:\n",
    "                    prenum = n_calls\n",
    "            if count2%n_calls==0:\n",
    "                pre100.append(f[i](data))\n",
    "                pre.append([prenum,premin])\n",
    "                premin = 100000000\n",
    "            count2 = count2+1\n",
    "for i in range(len(sim)):\n",
    "    m = mindata[i//n_repeats]\n",
    "    p1 = (sim[i][1]-m)/abs(m)\n",
    "    p2 = (pre[i][1]-m)/abs(m)\n",
    "    p3 = (pre100[i]-m)/abs(m)\n",
    "    DF.append([sim[i][0],pre[i][0],sim[i][1],pre[i][1],pre100[i],p1,p2,p3])"
   ]
  },
  {
   "cell_type": "code",
   "execution_count": 6,
   "metadata": {},
   "outputs": [],
   "source": [
    "with open(\"anlaysData.csv\",\"w\") as file:\n",
    "    np.savetxt(file,DF,delimiter=',') "
   ]
  },
  {
   "cell_type": "code",
   "execution_count": null,
   "metadata": {},
   "outputs": [],
   "source": []
  }
 ],
 "metadata": {
  "kernelspec": {
   "display_name": "Python 3 (ipykernel)",
   "language": "python",
   "name": "python3"
  },
  "language_info": {
   "codemirror_mode": {
    "name": "ipython",
    "version": 3
   },
   "file_extension": ".py",
   "mimetype": "text/x-python",
   "name": "python",
   "nbconvert_exporter": "python",
   "pygments_lexer": "ipython3",
   "version": "3.10.9"
  }
 },
 "nbformat": 4,
 "nbformat_minor": 2
}
