{
 "cells": [
  {
   "cell_type": "code",
   "execution_count": 4,
   "metadata": {},
   "outputs": [],
   "source": [
    "import numpy as np\n",
    "from functools import partial\n",
    "from pak.plotfunc import *\n",
    "import cocoex"
   ]
  },
  {
   "cell_type": "code",
   "execution_count": 5,
   "metadata": {},
   "outputs": [],
   "source": [
    "f = []\n",
    "suite = cocoex.Suite(\"bbob\", \"year:2023\", \"dimensions: 2\")\n",
    "bounds = [(-5., 5.), ] * 2\n",
    "for i in range(24):\n",
    "    f.append(suite.get_problem(i*15))\n",
    "    \n",
    "mindata = []\n",
    "with open(\"Data\\\\data5D\\\\fmin.csv\",\"r\") as file:\n",
    "    for  line in file:\n",
    "        mindata.append(float(line.strip()))"
   ]
  },
  {
   "cell_type": "code",
   "execution_count": 6,
   "metadata": {},
   "outputs": [],
   "source": [
    "n_calls = 100\n",
    "n_repeats = 30"
   ]
  },
  {
   "cell_type": "markdown",
   "metadata": {},
   "source": [
    "绘制简单后悔与瞬时后悔图像"
   ]
  },
  {
   "cell_type": "code",
   "execution_count": null,
   "metadata": {},
   "outputs": [],
   "source": [
    "title = 24\n",
    "csvlist = [\"f\"+str(title),\"f\"+str(title)+'_pre'] \n",
    "func_val = []\n",
    "res = []\n",
    "true_minimum = mindata[title-1]\n",
    "for csv in csvlist:\n",
    "    with open(\"Data\\\\data5D\\\\\"+csv+\".csv\",\"r\") as file: \n",
    "        count = 0\n",
    "        for line in file:\n",
    "            macoiter = count//n_calls # 实验序数\n",
    "            iter = count-macoiter*n_calls # 迭代序数\n",
    "            if iter<=n_calls:\n",
    "                data = [float(x) for x in line.strip().split(\",\")]\n",
    "                func_val.append(f[title-1](data))\n",
    "            count = count+1\n",
    "resultList = [] # 储存绘图所需的所有信息\n",
    "i = 0\n",
    "for csv in csvlist:\n",
    "    n = len(func_val)//len(csvlist)\n",
    "    resultList.append((csv,[np.array(func_val[j:j+n_calls]) for j in range(i*n, (i+1)*n, n_calls)])) # 将predictvalue列表拆分为正确的形式\n",
    "    i = i+1"
   ]
  },
  {
   "cell_type": "code",
   "execution_count": null,
   "metadata": {},
   "outputs": [],
   "source": [
    "plot = plot_SimpleRegret(result_list=resultList,\n",
    "                         n_calls = n_calls,\n",
    "                        true_minimum=true_minimum-1e-6, \n",
    "                        yscale='log',\n",
    "                        title=\"f\"+str(title))"
   ]
  },
  {
   "cell_type": "code",
   "execution_count": null,
   "metadata": {},
   "outputs": [],
   "source": [
    "plot = plot_InstantRegret(result_list=resultList,\n",
    "                         n_calls = n_calls,\n",
    "                        true_minimum=true_minimum-1e-6,\n",
    "                        yscale='log',\n",
    "                        title=\"f\"+str(title)) "
   ]
  },
  {
   "cell_type": "markdown",
   "metadata": {},
   "source": [
    "建立分析数据表格"
   ]
  },
  {
   "cell_type": "code",
   "execution_count": 4,
   "metadata": {},
   "outputs": [],
   "source": [
    "DF = []\n",
    "sim = []\n",
    "pre = []\n",
    "pre100 = []\n",
    "for i in range(24):\n",
    "    count1 = 1\n",
    "    count2 = 1\n",
    "    simmin = 100000000\n",
    "    premin = 100000000\n",
    "    simnum = 0\n",
    "    prenum = 0\n",
    "    with open(\"Data\\\\data5D\\\\f\"+str(i+1)+'.csv') as file:\n",
    "        for line in file:\n",
    "            data = [float(x) for x in line.strip().split(\",\")]\n",
    "            if f[i](data)<simmin:\n",
    "                simmin = f[i](data)\n",
    "                simnum = count1%n_calls\n",
    "                if count1%n_calls==0:\n",
    "                    simnum = n_calls\n",
    "            if count1%n_calls==0:\n",
    "                sim.append([simnum,simmin])\n",
    "                simmin = 100000000\n",
    "            count1 = count1+1\n",
    "    with open(\"Data\\\\data5D\\\\f\"+str(i+1)+'_pre.csv') as file:\n",
    "        for line in file:\n",
    "            data = [float(x) for x in line.strip().split(\",\")]\n",
    "            if f[i](data)<premin:\n",
    "                premin = f[i](data)\n",
    "                prenum = count2%n_calls\n",
    "                if count2%n_calls==0:\n",
    "                    prenum = n_calls\n",
    "            if count2%n_calls==0:\n",
    "                pre100.append(f[i](data))\n",
    "                pre.append([prenum,premin])\n",
    "                premin = 100000000\n",
    "            count2 = count2+1\n",
    "for i in range(len(sim)):\n",
    "    m = mindata[i//n_repeats]\n",
    "    p1 = (sim[i][1]-m)/abs(m)\n",
    "    p2 = (pre[i][1]-m)/abs(m)\n",
    "    p3 = (pre100[i]-m)/abs(m)\n",
    "    DF.append([sim[i][0],pre[i][0],sim[i][1],pre[i][1],pre100[i],p1,p2,p3])"
   ]
  },
  {
   "cell_type": "code",
   "execution_count": 6,
   "metadata": {},
   "outputs": [],
   "source": [
    "with open(\"anlaysData.csv\",\"w\") as file:\n",
    "    np.savetxt(file,DF,delimiter=',') "
   ]
  },
  {
   "cell_type": "markdown",
   "metadata": {},
   "source": [
    "检查优化过程模型参数"
   ]
  },
  {
   "cell_type": "code",
   "execution_count": 10,
   "metadata": {},
   "outputs": [],
   "source": [
    "from skopt import gp_minimize \n",
    "results = gp_minimize(f[9],bounds,n_initial_points=10,initial_point_generator='lhs',acq_func=\"EI\",n_calls=100,random_state=1)"
   ]
  },
  {
   "cell_type": "code",
   "execution_count": 11,
   "metadata": {},
   "outputs": [
    {
     "name": "stdout",
     "output_type": "stream",
     "text": [
      "3.1**2 * Matern(length_scale=[3.52, 0.971], nu=2.5) WhiteKernel(noise_level=0)\n",
      "4.9**2 * Matern(length_scale=[4.42, 1.3], nu=2.5) WhiteKernel(noise_level=0)\n",
      "1.2**2 * Matern(length_scale=[5.61, 0.21], nu=2.5) WhiteKernel(noise_level=0)\n",
      "7.05**2 * Matern(length_scale=[5.47, 1.49], nu=2.5) WhiteKernel(noise_level=0)\n",
      "7.3**2 * Matern(length_scale=[5.86, 1.41], nu=2.5) WhiteKernel(noise_level=0)\n",
      "8.09**2 * Matern(length_scale=[6.43, 1.44], nu=2.5) WhiteKernel(noise_level=0)\n",
      "8.78**2 * Matern(length_scale=[6.69, 1.5], nu=2.5) WhiteKernel(noise_level=0)\n",
      "9.56**2 * Matern(length_scale=[7.09, 1.55], nu=2.5) WhiteKernel(noise_level=0)\n",
      "10.6**2 * Matern(length_scale=[7.49, 1.64], nu=2.5) WhiteKernel(noise_level=0)\n",
      "11.4**2 * Matern(length_scale=[7.82, 1.68], nu=2.5) WhiteKernel(noise_level=0)\n",
      "12.2**2 * Matern(length_scale=[8.11, 1.72], nu=2.5) WhiteKernel(noise_level=0)\n",
      "12.7**2 * Matern(length_scale=[8.23, 1.74], nu=2.5) WhiteKernel(noise_level=0)\n",
      "13.3**2 * Matern(length_scale=[8.41, 1.76], nu=2.5) WhiteKernel(noise_level=0)\n",
      "13.7**2 * Matern(length_scale=[8.53, 1.78], nu=2.5) WhiteKernel(noise_level=0)\n",
      "14.5**2 * Matern(length_scale=[8.78, 1.82], nu=2.5) WhiteKernel(noise_level=0)\n",
      "15**2 * Matern(length_scale=[8.89, 1.83], nu=2.5) WhiteKernel(noise_level=0)\n",
      "15.4**2 * Matern(length_scale=[8.99, 1.84], nu=2.5) WhiteKernel(noise_level=0)\n",
      "15.9**2 * Matern(length_scale=[9.09, 1.85], nu=2.5) WhiteKernel(noise_level=0)\n",
      "16.3**2 * Matern(length_scale=[9.18, 1.86], nu=2.5) WhiteKernel(noise_level=0)\n",
      "16.7**2 * Matern(length_scale=[9.23, 1.87], nu=2.5) WhiteKernel(noise_level=0)\n",
      "17.1**2 * Matern(length_scale=[9.3, 1.88], nu=2.5) WhiteKernel(noise_level=0)\n",
      "17.8**2 * Matern(length_scale=[9.48, 1.9], nu=2.5) WhiteKernel(noise_level=0)\n",
      "18.3**2 * Matern(length_scale=[9.57, 1.91], nu=2.5) WhiteKernel(noise_level=0)\n",
      "18.7**2 * Matern(length_scale=[9.63, 1.92], nu=2.5) WhiteKernel(noise_level=0)\n",
      "19.1**2 * Matern(length_scale=[9.69, 1.93], nu=2.5) WhiteKernel(noise_level=0)\n",
      "19.4**2 * Matern(length_scale=[9.74, 1.93], nu=2.5) WhiteKernel(noise_level=0)\n",
      "19.8**2 * Matern(length_scale=[9.8, 1.94], nu=2.5) WhiteKernel(noise_level=0)\n",
      "20.2**2 * Matern(length_scale=[9.87, 1.95], nu=2.5) WhiteKernel(noise_level=0)\n",
      "20.8**2 * Matern(length_scale=[9.99, 1.96], nu=2.5) WhiteKernel(noise_level=0)\n",
      "21.3**2 * Matern(length_scale=[10.1, 1.98], nu=2.5) WhiteKernel(noise_level=0)\n",
      "21.7**2 * Matern(length_scale=[10.1, 1.98], nu=2.5) WhiteKernel(noise_level=0)\n",
      "22.1**2 * Matern(length_scale=[10.2, 1.99], nu=2.5) WhiteKernel(noise_level=0)\n",
      "22.6**2 * Matern(length_scale=[10.3, 2], nu=2.5) WhiteKernel(noise_level=0)\n",
      "22.9**2 * Matern(length_scale=[10.3, 2], nu=2.5) WhiteKernel(noise_level=0)\n",
      "23.3**2 * Matern(length_scale=[10.4, 2.01], nu=2.5) WhiteKernel(noise_level=0)\n",
      "23.7**2 * Matern(length_scale=[10.4, 2.02], nu=2.5) WhiteKernel(noise_level=0)\n",
      "24.3**2 * Matern(length_scale=[10.5, 2.03], nu=2.5) WhiteKernel(noise_level=0)\n",
      "24.7**2 * Matern(length_scale=[10.6, 2.04], nu=2.5) WhiteKernel(noise_level=0)\n",
      "25.1**2 * Matern(length_scale=[10.6, 2.05], nu=2.5) WhiteKernel(noise_level=0)\n",
      "25.5**2 * Matern(length_scale=[10.7, 2.05], nu=2.5) WhiteKernel(noise_level=0)\n",
      "25.9**2 * Matern(length_scale=[10.7, 2.06], nu=2.5) WhiteKernel(noise_level=0)\n",
      "26.3**2 * Matern(length_scale=[10.8, 2.06], nu=2.5) WhiteKernel(noise_level=0)\n",
      "26.9**2 * Matern(length_scale=[10.9, 2.07], nu=2.5) WhiteKernel(noise_level=0)\n",
      "27.3**2 * Matern(length_scale=[10.9, 2.08], nu=2.5) WhiteKernel(noise_level=0)\n",
      "27.6**2 * Matern(length_scale=[11, 2.08], nu=2.5) WhiteKernel(noise_level=0)\n",
      "28**2 * Matern(length_scale=[11, 2.09], nu=2.5) WhiteKernel(noise_level=0)\n",
      "28.4**2 * Matern(length_scale=[11.1, 2.09], nu=2.5) WhiteKernel(noise_level=0)\n",
      "28.9**2 * Matern(length_scale=[11.1, 2.1], nu=2.5) WhiteKernel(noise_level=0)\n",
      "29.4**2 * Matern(length_scale=[11.2, 2.11], nu=2.5) WhiteKernel(noise_level=0)\n",
      "29.9**2 * Matern(length_scale=[11.3, 2.12], nu=2.5) WhiteKernel(noise_level=0)\n",
      "30.4**2 * Matern(length_scale=[11.3, 2.13], nu=2.5) WhiteKernel(noise_level=0)\n",
      "30.7**2 * Matern(length_scale=[11.4, 2.13], nu=2.5) WhiteKernel(noise_level=0)\n",
      "31.4**2 * Matern(length_scale=[11.5, 2.15], nu=2.5) WhiteKernel(noise_level=0)\n",
      "31.6**2 * Matern(length_scale=[11.5, 2.15], nu=2.5) WhiteKernel(noise_level=0)\n",
      "31.6**2 * Matern(length_scale=[11.5, 2.14], nu=2.5) WhiteKernel(noise_level=0)\n",
      "31.6**2 * Matern(length_scale=[11.5, 2.13], nu=2.5) WhiteKernel(noise_level=0)\n",
      "31.6**2 * Matern(length_scale=[11.5, 2.13], nu=2.5) WhiteKernel(noise_level=0)\n",
      "31.6**2 * Matern(length_scale=[11.4, 2.12], nu=2.5) WhiteKernel(noise_level=0)\n",
      "31.6**2 * Matern(length_scale=[11.4, 2.12], nu=2.5) WhiteKernel(noise_level=0)\n",
      "31.6**2 * Matern(length_scale=[11.4, 2.11], nu=2.5) WhiteKernel(noise_level=0)\n",
      "31.6**2 * Matern(length_scale=[11.4, 2.1], nu=2.5) WhiteKernel(noise_level=0)\n",
      "31.6**2 * Matern(length_scale=[11.3, 2.1], nu=2.5) WhiteKernel(noise_level=0)\n",
      "31.6**2 * Matern(length_scale=[11.3, 2.09], nu=2.5) WhiteKernel(noise_level=0)\n",
      "31.6**2 * Matern(length_scale=[11.3, 2.09], nu=2.5) WhiteKernel(noise_level=0)\n",
      "31.6**2 * Matern(length_scale=[11.3, 2.08], nu=2.5) WhiteKernel(noise_level=0)\n",
      "31.6**2 * Matern(length_scale=[11.3, 2.08], nu=2.5) WhiteKernel(noise_level=0)\n",
      "31.6**2 * Matern(length_scale=[11.2, 2.07], nu=2.5) WhiteKernel(noise_level=0)\n",
      "31.6**2 * Matern(length_scale=[11.2, 2.07], nu=2.5) WhiteKernel(noise_level=0)\n",
      "31.6**2 * Matern(length_scale=[11.2, 2.06], nu=2.5) WhiteKernel(noise_level=0)\n",
      "31.6**2 * Matern(length_scale=[11.2, 2.06], nu=2.5) WhiteKernel(noise_level=0)\n",
      "31.6**2 * Matern(length_scale=[11.1, 2.05], nu=2.5) WhiteKernel(noise_level=0)\n",
      "31.6**2 * Matern(length_scale=[11.1, 2.05], nu=2.5) WhiteKernel(noise_level=0)\n",
      "31.6**2 * Matern(length_scale=[11.1, 2.04], nu=2.5) WhiteKernel(noise_level=0)\n",
      "31.6**2 * Matern(length_scale=[10.9, 2.08], nu=2.5) WhiteKernel(noise_level=0)\n",
      "31.6**2 * Matern(length_scale=[10.9, 2.07], nu=2.5) WhiteKernel(noise_level=0)\n",
      "31.6**2 * Matern(length_scale=[10.9, 2.07], nu=2.5) WhiteKernel(noise_level=0)\n",
      "31.6**2 * Matern(length_scale=[10.9, 2.06], nu=2.5) WhiteKernel(noise_level=0)\n",
      "31.6**2 * Matern(length_scale=[10.8, 2.08], nu=2.5) WhiteKernel(noise_level=0)\n",
      "31.6**2 * Matern(length_scale=[10.7, 2.08], nu=2.5) WhiteKernel(noise_level=0)\n",
      "31.6**2 * Matern(length_scale=[10.7, 2.07], nu=2.5) WhiteKernel(noise_level=0)\n",
      "31.6**2 * Matern(length_scale=[10.7, 2.07], nu=2.5) WhiteKernel(noise_level=0)\n",
      "31.6**2 * Matern(length_scale=[10.7, 2.06], nu=2.5) WhiteKernel(noise_level=0)\n",
      "31.6**2 * Matern(length_scale=[10.7, 2.06], nu=2.5) WhiteKernel(noise_level=0)\n",
      "31.6**2 * Matern(length_scale=[10.6, 2.06], nu=2.5) WhiteKernel(noise_level=0)\n",
      "31.6**2 * Matern(length_scale=[9.95, 2.05], nu=2.5) WhiteKernel(noise_level=0)\n",
      "31.6**2 * Matern(length_scale=[9.92, 2.05], nu=2.5) WhiteKernel(noise_level=0)\n",
      "31.6**2 * Matern(length_scale=[9.9, 2.04], nu=2.5) WhiteKernel(noise_level=0)\n",
      "31.6**2 * Matern(length_scale=[9.88, 2.04], nu=2.5) WhiteKernel(noise_level=0)\n",
      "31.6**2 * Matern(length_scale=[9.87, 2.03], nu=2.5) WhiteKernel(noise_level=0)\n",
      "31.6**2 * Matern(length_scale=[9.84, 2.03], nu=2.5) WhiteKernel(noise_level=0)\n",
      "31.6**2 * Matern(length_scale=[9.83, 2.03], nu=2.5) WhiteKernel(noise_level=0)\n"
     ]
    }
   ],
   "source": [
    "for md in results.models:\n",
    "    print(md.kernel_.get_params()['k1'],end=' ')\n",
    "    print(md.kernel_.get_params()['k2'])"
   ]
  }
 ],
 "metadata": {
  "kernelspec": {
   "display_name": "Python 3 (ipykernel)",
   "language": "python",
   "name": "python3"
  },
  "language_info": {
   "codemirror_mode": {
    "name": "ipython",
    "version": 3
   },
   "file_extension": ".py",
   "mimetype": "text/x-python",
   "name": "python",
   "nbconvert_exporter": "python",
   "pygments_lexer": "ipython3",
   "version": "3.10.9"
  }
 },
 "nbformat": 4,
 "nbformat_minor": 2
}
