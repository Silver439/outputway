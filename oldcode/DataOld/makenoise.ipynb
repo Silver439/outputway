{
 "cells": [
  {
   "cell_type": "code",
   "execution_count": 12,
   "metadata": {},
   "outputs": [],
   "source": [
    "import numpy as np\n",
    "import cocoex\n",
    "from skopt import gp_minimize \n",
    "from tqdm import tqdm\n",
    "from pak.function import *\n",
    "from numpy.random import standard_normal as _randn # TODO: may bring confusion\n",
    "import warnings\n",
    "warnings.filterwarnings(\"ignore\")"
   ]
  },
  {
   "cell_type": "code",
   "execution_count": 13,
   "metadata": {},
   "outputs": [],
   "source": [
    "# 创建测试套件并获取问题实例\n",
    "f = [F1,F2,F3,F4,F5,F6,F7,F8,F9,F10,F11,F12,F13,F14,F15,F16,F17,F18,F19,F20,F21,F22,F23,F24]\n",
    "bounds = [(-5., 5.), ] * 2"
   ]
  },
  {
   "cell_type": "code",
   "execution_count": 14,
   "metadata": {},
   "outputs": [],
   "source": [
    "n_repeats = 1\n",
    "n_calls = 100\n",
    "n_init = 10\n",
    "noise_level =0.\n",
    "id = 0"
   ]
  },
  {
   "cell_type": "code",
   "execution_count": 15,
   "metadata": {},
   "outputs": [],
   "source": [
    "def fnoise(x):\n",
    "    y = f[id](x) + noise_level * std[id] * _randn()\n",
    "    return y "
   ]
  },
  {
   "cell_type": "code",
   "execution_count": 16,
   "metadata": {},
   "outputs": [
    {
     "name": "stderr",
     "output_type": "stream",
     "text": [
      "Optimizing: 100%|██████████| 100/100 [00:57<00:00,  1.74it/s]\n"
     ]
    },
    {
     "data": {
      "text/plain": [
       "'      \\n    for result in results:\\n        with open(\"Fn\"+str(i)+\"M.csv\",\"a\") as file:\\n            np.savetxt(file,result.x_iters,delimiter=\\',\\')\\n    \\n    with open(\"Fn\"+str(i)+\"M_noi.csv\",\"a\") as file:\\n        np.savetxt(file,noimin,delimiter=\\',\\')\\n\\n    with open(\"Fn\"+str(i)+\"M_obs.csv\",\"a\") as file:\\n        np.savetxt(file,obsmin,delimiter=\\',\\')\\n\\n    with open(\"Fn\"+str(i)+\"M_pre.csv\",\"a\") as file:\\n        np.savetxt(file,premin,delimiter=\\',\\')\\n'"
      ]
     },
     "execution_count": 16,
     "metadata": {},
     "output_type": "execute_result"
    }
   ],
   "source": [
    "import csv\n",
    "for i in range(5,6,1):\n",
    "    id = i\n",
    "    results = []\n",
    "    noimin = []\n",
    "    obsmin = []\n",
    "    premin = []\n",
    "    with tqdm(total=n_repeats*n_calls,desc = \"Optimizing\") as pbar:\n",
    "        def callback(result):\n",
    "            if len(result.models)==0:\n",
    "                noimin.append(result.x_iters[-1])\n",
    "                obsmin.append(result.x_iters[-1])\n",
    "                premin.append(result.x_iters[-1])   \n",
    "            else:\n",
    "                noimin.append(result.x)\n",
    "                x_iters = np.array(result.x_iters)\n",
    "                y_iters = np.array(result.func_vals)\n",
    "                md = result.models[-1].fit(x_iters,y_iters)\n",
    "                curmin = 1000000000\n",
    "                for obs in x_iters:\n",
    "                    pd = md.predict(obs.reshape(1,-1))\n",
    "                    if pd < curmin:\n",
    "                        temp = obs\n",
    "                        curmin = pd\n",
    "                obsmin.append(temp.tolist())\n",
    "                res = gp_minimize(fnoise,bounds,n_initial_points=0,acq_func=\"LCB\",n_calls=1,random_state=1,kappa=0,x0=result.x_iters,y0=result.func_vals)\n",
    "                premin.append(res.x_iters[-1])\n",
    "            pbar.update(1)\n",
    "            \n",
    "        results = [gp_minimize(fnoise,bounds,n_initial_points=n_init,initial_point_generator='lhs',acq_func=\"EI\",n_calls=n_calls,random_state=n,callback=callback)\n",
    "                for n in range(n_repeats)]\n",
    "'''      \n",
    "    for result in results:\n",
    "        with open(\"Fn\"+str(i)+\"M.csv\",\"a\") as file:\n",
    "            np.savetxt(file,result.x_iters,delimiter=',')\n",
    "    \n",
    "    with open(\"Fn\"+str(i)+\"M_noi.csv\",\"a\") as file:\n",
    "        np.savetxt(file,noimin,delimiter=',')\n",
    "\n",
    "    with open(\"Fn\"+str(i)+\"M_obs.csv\",\"a\") as file:\n",
    "        np.savetxt(file,obsmin,delimiter=',')\n",
    "\n",
    "    with open(\"Fn\"+str(i)+\"M_pre.csv\",\"a\") as file:\n",
    "        np.savetxt(file,premin,delimiter=',')\n",
    "'''"
   ]
  }
 ],
 "metadata": {
  "kernelspec": {
   "display_name": "base",
   "language": "python",
   "name": "python3"
  },
  "language_info": {
   "codemirror_mode": {
    "name": "ipython",
    "version": 3
   },
   "file_extension": ".py",
   "mimetype": "text/x-python",
   "name": "python",
   "nbconvert_exporter": "python",
   "pygments_lexer": "ipython3",
   "version": "3.10.9"
  },
  "orig_nbformat": 4
 },
 "nbformat": 4,
 "nbformat_minor": 2
}
