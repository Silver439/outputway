{
 "cells": [
  {
   "cell_type": "code",
   "execution_count": 1,
   "metadata": {},
   "outputs": [],
   "source": [
    "import numpy as np\n",
    "from skopt import gp_minimize \n",
    "from tqdm import tqdm\n",
    "from pak.function import *\n",
    "import warnings\n",
    "warnings.filterwarnings(\"ignore\")\n",
    "bounds = [(-5., 5.), ] * 2\n",
    "FN = [Fn16M,Fn16M]"
   ]
  },
  {
   "cell_type": "code",
   "execution_count": 2,
   "metadata": {},
   "outputs": [],
   "source": [
    "n_repeats = 15\n",
    "n_calls = 300\n",
    "n_init = 30"
   ]
  },
  {
   "cell_type": "code",
   "execution_count": 3,
   "metadata": {},
   "outputs": [
    {
     "name": "stderr",
     "output_type": "stream",
     "text": [
      "Optimizing: 4725it [4:58:12,  3.79s/it]                             \n"
     ]
    }
   ],
   "source": [
    "for i in range(0,1,1):\n",
    "    results = []\n",
    "    noimin = []\n",
    "    obsmin = []\n",
    "    premin = []\n",
    "    with tqdm(total=n_repeats*n_calls,desc = \"Optimizing\") as pbar:\n",
    "        def callback(result):\n",
    "            if len(result.models)==0:\n",
    "                noimin.append(result.x_iters[-1])\n",
    "                obsmin.append(result.x_iters[-1])\n",
    "                premin.append(result.x_iters[-1])   \n",
    "            else:\n",
    "                noimin.append(result.x)\n",
    "                x_iters = np.array(result.x_iters)\n",
    "                y_iters = np.array(result.func_vals)\n",
    "                md = result.models[-1].fit(x_iters,y_iters)\n",
    "                curmin = 1000000000\n",
    "                for obs in x_iters:\n",
    "                    pd = md.predict(obs.reshape(1,-1)) \n",
    "                    if pd < curmin:\n",
    "                        temp = obs\n",
    "                        curmin = pd\n",
    "                obsmin.append(temp.tolist())\n",
    "                res = gp_minimize(FN[i],bounds,n_initial_points=0,acq_func=\"LCB\",n_calls=1,random_state=1,kappa=0,x0=result.x_iters,y0=result.func_vals)\n",
    "                premin.append(res.x_iters[-1])\n",
    "            pbar.update(1)\n",
    "            \n",
    "        results = [gp_minimize(FN[i],bounds,n_initial_points=n_init,initial_point_generator='lhs',acq_func=\"EI\",n_calls=n_calls+15,random_state=n,callback=callback)\n",
    "                for n in range(n_repeats)]\n",
    "      \n",
    "    for result in results:\n",
    "        with open(\"Fn\"+str(16)+\"L.csv\",\"a\") as file:\n",
    "            np.savetxt(file,result.x_iters,delimiter=',')\n",
    "    \n",
    "    with open(\"Fn\"+str(16)+\"L_noi.csv\",\"a\") as file:\n",
    "        np.savetxt(file,noimin,delimiter=',')\n",
    "\n",
    "    with open(\"Fn\"+str(16)+\"L_obs.csv\",\"a\") as file:\n",
    "        np.savetxt(file,obsmin,delimiter=',')\n",
    "\n",
    "    with open(\"Fn\"+str(16)+\"L_pre.csv\",\"a\") as file:\n",
    "        np.savetxt(file,premin,delimiter=',')"
   ]
  },
  {
   "cell_type": "code",
   "execution_count": null,
   "metadata": {},
   "outputs": [],
   "source": []
  }
 ],
 "metadata": {
  "kernelspec": {
   "display_name": "base",
   "language": "python",
   "name": "python3"
  },
  "language_info": {
   "codemirror_mode": {
    "name": "ipython",
    "version": 3
   },
   "file_extension": ".py",
   "mimetype": "text/x-python",
   "name": "python",
   "nbconvert_exporter": "python",
   "pygments_lexer": "ipython3",
   "version": "3.10.9"
  },
  "orig_nbformat": 4
 },
 "nbformat": 4,
 "nbformat_minor": 2
}
