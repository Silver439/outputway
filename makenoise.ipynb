{
 "cells": [
  {
   "cell_type": "code",
   "execution_count": 4,
   "metadata": {},
   "outputs": [],
   "source": [
    "import numpy as np\n",
    "from myskopt import gp_minimize \n",
    "from tqdm import tqdm\n",
    "from pak.function_old import *\n",
    "import warnings\n",
    "warnings.filterwarnings(\"ignore\")\n",
    "bounds = [(-5., 5.), ] * 4\n",
    "FN = [Fn22M,Fn22M]"
   ]
  },
  {
   "cell_type": "code",
   "execution_count": 5,
   "metadata": {},
   "outputs": [],
   "source": [
    "n_repeats = 15\n",
    "n_calls = 300\n",
    "n_init = 30"
   ]
  },
  {
   "cell_type": "code",
   "execution_count": null,
   "metadata": {},
   "outputs": [],
   "source": [
    "for i in range(0,1,1):\n",
    "    results = []\n",
    "    obsmin = []\n",
    "    premin = []\n",
    "    with tqdm(total=n_repeats*n_calls,desc = \"Optimizing\") as pbar:\n",
    "        def callback(result):\n",
    "            if len(result.models)==0:\n",
    "                obsmin.append(result.x_iters[-1])\n",
    "                premin.append(result.x_iters[-1])   \n",
    "            else:\n",
    "                x_iters = np.array(result.x_iters)\n",
    "                y_iters = np.array(result.func_vals)\n",
    "                md = result.models[-1].fit(x_iters,y_iters)\n",
    "                curmin = 1000000000\n",
    "                for obs in x_iters:\n",
    "                    pd = md.predict(obs.reshape(1,-1)) \n",
    "                    if pd < curmin:\n",
    "                        temp = obs\n",
    "                        curmin = pd\n",
    "                obsmin.append(temp.tolist())\n",
    "                res = gp_minimize(FN[i],bounds,n_initial_points=0,acq_func=\"LCB\",n_calls=1,random_state=1,kappa=0,x0=result.x_iters,y0=result.func_vals)\n",
    "                premin.append(res.x_iters[-1])\n",
    "            pbar.update(1)\n",
    "            \n",
    "        results = [gp_minimize(FN[i],bounds,n_initial_points=n_init,initial_point_generator='lhs',acq_func=\"EIM\",n_calls=n_calls,random_state=n+15,callback=callback)\n",
    "                for n in range(n_repeats)]\n",
    "      \n",
    "    for result in results:\n",
    "        with open(\"Fn\"+str(13)+\"S_EIm.csv\",\"a\") as file:\n",
    "            np.savetxt(file,result.x_iters,delimiter=',')\n",
    "\n",
    "    with open(\"Fn\"+str(13)+\"S_obs.csv\",\"a\") as file:\n",
    "        np.savetxt(file,obsmin,delimiter=',')\n",
    "\n",
    "    with open(\"Fn\"+str(13)+\"S_pre.csv\",\"a\") as file:\n",
    "        np.savetxt(file,premin,delimiter=',')"
   ]
  },
  {
   "cell_type": "code",
   "execution_count": null,
   "metadata": {},
   "outputs": [],
   "source": [
    "for i in range(0,1,1):\n",
    "    results = []\n",
    "    noimin = []\n",
    "    with tqdm(total=n_repeats*n_calls,desc = \"Optimizing\") as pbar:\n",
    "        def callback(result):\n",
    "            if len(result.models)==0:\n",
    "                noimin.append(result.x_iters[-1]) \n",
    "            else:\n",
    "                noimin.append(result.x)\n",
    "            pbar.update(1)\n",
    "            \n",
    "        results = [gp_minimize(FN[i],bounds,n_initial_points=n_init,initial_point_generator='lhs',acq_func=\"EI\",n_calls=n_calls,random_state=n+15,callback=callback)\n",
    "                for n in range(n_repeats)]\n",
    "      \n",
    "    for result in results:\n",
    "        with open(\"Fn\"+str(13)+\"S.csv\",\"a\") as file:\n",
    "            np.savetxt(file,result.x_iters,delimiter=',')\n",
    "    \n",
    "    with open(\"Fn\"+str(13)+\"S_noi.csv\",\"a\") as file:\n",
    "        np.savetxt(file,noimin,delimiter=',')\n"
   ]
  },
  {
   "cell_type": "code",
   "execution_count": null,
   "metadata": {},
   "outputs": [],
   "source": [
    "import os\n",
    "os.system(\"shutdown /s /t 60\")"
   ]
  },
  {
   "cell_type": "code",
   "execution_count": 3,
   "metadata": {},
   "outputs": [],
   "source": [
    "results = [gp_minimize(FN[0],bounds,n_initial_points=400,initial_point_generator='lhs',acq_func=\"EI\",n_calls=400,random_state=n)\n",
    "                for n in range(30)]\n",
    "for result in results:\n",
    "    with open(\"Fn\"+str(22)+\"M_random.csv\",\"a\") as file:\n",
    "        np.savetxt(file,result.x_iters,delimiter=',')"
   ]
  },
  {
   "cell_type": "code",
   "execution_count": null,
   "metadata": {},
   "outputs": [],
   "source": [
    "f = [F1,F2,F3,F4,F5,F6,F7,F8,F9,F10,F11,F12,F13,F14,F15,F16,F17,F18,F19,F20,F21,F22,F23,F24]\n",
    "for i in range(1):\n",
    "    result = gp_minimize(f[i],bounds,n_initial_points=100,initial_point_generator='sobol',acq_func=\"EI\",n_calls=100,random_state=1)\n",
    "    print(\"F\"+str(i+1)+\":\",end=' ')\n",
    "    print(np.std(result.func_vals))"
   ]
  },
  {
   "cell_type": "code",
   "execution_count": null,
   "metadata": {},
   "outputs": [],
   "source": [
    "np.std(result.func_vals)"
   ]
  }
 ],
 "metadata": {
  "kernelspec": {
   "display_name": "base",
   "language": "python",
   "name": "python3"
  },
  "language_info": {
   "codemirror_mode": {
    "name": "ipython",
    "version": 3
   },
   "file_extension": ".py",
   "mimetype": "text/x-python",
   "name": "python",
   "nbconvert_exporter": "python",
   "pygments_lexer": "ipython3",
   "version": "3.10.9"
  },
  "orig_nbformat": 4
 },
 "nbformat": 4,
 "nbformat_minor": 2
}
