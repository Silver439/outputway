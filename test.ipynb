{
 "cells": [
  {
   "cell_type": "code",
   "execution_count": 43,
   "metadata": {},
   "outputs": [
    {
     "name": "stdout",
     "output_type": "stream",
     "text": [
      "[-209.88, -92.09, -87.89, 320.19, -104.24, -35.7, 20.7, 38.07, -45.42, 66.95, 58.32, 193.27, -419.01, 407.61, 28.72, -89.23, 58.32, 311.81, 14.9, -62.23]\n"
     ]
    }
   ],
   "source": [
    "from bbobold import bbobbenchmarks as bn\n",
    "opt = []\n",
    "for i in range(1,21,1):\n",
    "    f = bn.F2(i)\n",
    "    opt.append(f.getfopt())\n",
    "print(opt)"
   ]
  },
  {
   "cell_type": "code",
   "execution_count": 42,
   "metadata": {},
   "outputs": [
    {
     "data": {
      "text/plain": [
       "93.3"
      ]
     },
     "execution_count": 42,
     "metadata": {},
     "output_type": "execute_result"
    }
   ],
   "source": [
    "bn.F24(2).getfopt()"
   ]
  }
 ],
 "metadata": {
  "kernelspec": {
   "display_name": "base",
   "language": "python",
   "name": "python3"
  },
  "language_info": {
   "codemirror_mode": {
    "name": "ipython",
    "version": 3
   },
   "file_extension": ".py",
   "mimetype": "text/x-python",
   "name": "python",
   "nbconvert_exporter": "python",
   "pygments_lexer": "ipython3",
   "version": "3.10.9"
  },
  "orig_nbformat": 4
 },
 "nbformat": 4,
 "nbformat_minor": 2
}
