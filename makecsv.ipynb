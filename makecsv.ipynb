{
 "cells": [
  {
   "cell_type": "code",
   "execution_count": 1,
   "metadata": {},
   "outputs": [],
   "source": [
    "import numpy as np\n",
    "import cocoex\n",
    "from skopt import gp_minimize \n",
    "from tqdm import tqdm\n",
    "import warnings\n",
    "warnings.filterwarnings(\"ignore\")"
   ]
  },
  {
   "cell_type": "code",
   "execution_count": 2,
   "metadata": {},
   "outputs": [],
   "source": [
    "# 创建测试套件并获取问题实例\n",
    "f = []\n",
    "suite = cocoex.Suite(\"bbob\", \"year:2023\", \"dimensions: 5\")\n",
    "bounds = [(-5., 5.), ] * 5\n",
    "for i in range(24):\n",
    "    f.append(suite.get_problem(i*15))"
   ]
  },
  {
   "cell_type": "code",
   "execution_count": 3,
   "metadata": {},
   "outputs": [],
   "source": [
    "n_repeats = 10\n",
    "n_calls = 200\n",
    "n_init = 20"
   ]
  },
  {
   "cell_type": "code",
   "execution_count": 4,
   "metadata": {},
   "outputs": [
    {
     "name": "stderr",
     "output_type": "stream",
     "text": [
      "Optimizing: 100%|██████████| 2000/2000 [1:15:48<00:00,  2.27s/it]\n",
      "Optimizing: 100%|██████████| 2000/2000 [1:13:04<00:00,  2.19s/it]\n",
      "Optimizing: 100%|██████████| 2000/2000 [1:20:41<00:00,  2.42s/it]\n"
     ]
    },
    {
     "ename": "",
     "evalue": "",
     "output_type": "error",
     "traceback": [
      "\u001b[1;31m在当前单元格或上一个单元格中执行代码时 Kernel 崩溃。请查看单元格中的代码，以确定故障的可能原因。有关详细信息，请单击 <a href='https://aka.ms/vscodeJupyterKernelCrash'>此处</a>。有关更多详细信息，请查看 Jupyter <a href='command:jupyter.viewOutput'>log</a>。"
     ]
    }
   ],
   "source": [
    "for i in range(8,11,1):\n",
    "    results = []\n",
    "    premin = []\n",
    "    with tqdm(total=n_repeats*n_calls,desc = \"Optimizing\") as pbar:\n",
    "        def callback(result):\n",
    "            if len(result.models)==0:\n",
    "                premin.append(result.x_iters[-1])\n",
    "            else:\n",
    "                res = gp_minimize(f[i],bounds,n_initial_points=0,acq_func=\"LCB\",n_calls=1,random_state=1,kappa=0,x0=result.x_iters,y0=result.func_vals)\n",
    "                premin.append(res.x_iters[-1])\n",
    "            pbar.update(1)\n",
    "        results = [gp_minimize(f[i],bounds,n_initial_points=n_init,initial_point_generator='lhs',acq_func=\"EI\",n_calls=n_calls,random_state=n,callback=callback) for n in range(n_repeats)]   \n",
    "    for result in results:\n",
    "        with open(\"f\"+str(i+1)+\".csv\",\"a\") as file:\n",
    "            np.savetxt(file,result.x_iters,delimiter=',')\n",
    "\n",
    "    with open(\"f\"+str(i+1)+\"_pre.csv\",\"a\") as file:\n",
    "        np.savetxt(file,premin,delimiter=',') \n",
    "\n",
    "    with open(\"fmin.csv\",\"a\") as file:\n",
    "        file.write(str(f[i].best_observed_fvalue1))\n",
    "        file.write('\\n')\n",
    "    f[i].free"
   ]
  },
  {
   "cell_type": "code",
   "execution_count": null,
   "metadata": {},
   "outputs": [],
   "source": []
  }
 ],
 "metadata": {
  "kernelspec": {
   "display_name": "base",
   "language": "python",
   "name": "python3"
  },
  "language_info": {
   "codemirror_mode": {
    "name": "ipython",
    "version": 3
   },
   "file_extension": ".py",
   "mimetype": "text/x-python",
   "name": "python",
   "nbconvert_exporter": "python",
   "pygments_lexer": "ipython3",
   "version": "3.10.9"
  },
  "orig_nbformat": 4
 },
 "nbformat": 4,
 "nbformat_minor": 2
}
